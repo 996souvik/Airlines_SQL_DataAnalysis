{
  "nbformat": 4,
  "nbformat_minor": 0,
  "metadata": {
    "colab": {
      "provenance": []
    },
    "kernelspec": {
      "name": "python3",
      "display_name": "Python 3"
    },
    "language_info": {
      "name": "python"
    }
  },
  "cells": [
    {
      "cell_type": "code",
      "execution_count": null,
      "metadata": {
        "id": "fP69RD8puVnA"
      },
      "outputs": [],
      "source": [
        "#Create Bank Account Class\n",
        "class BankAccount:\n",
        "    def __init__(self, name, balance=0):\n",
        "        self.name = name\n",
        "        self.balance= balance\n"
      ]
    },
    {
      "cell_type": "code",
      "source": [
        "#Deposit method to deposit money\n",
        "def deposit(self, amount):\n",
        "    self.balance += amount\n",
        "    print(f\"Money deposited succesfully {amount} rupees. New balance: {self.balance} rupees.\")\n",
        "\n",
        "\n"
      ],
      "metadata": {
        "id": "JQcJNpfCuYzx"
      },
      "execution_count": null,
      "outputs": []
    },
    {
      "cell_type": "code",
      "source": [
        "#Withdrow method for withdraw money\n",
        "def withdraw(self, amount):\n",
        "    if amount > self.balance:\n",
        "        print(\"Insufficent funds.\")\n",
        "    else:\n",
        "        self.balance -= amount\n",
        "        print(f\"Money withdraw succesfully {amount} rupees. New balance: {self.balance} rupees.\")"
      ],
      "metadata": {
        "id": "LJhfOIpauhHc"
      },
      "execution_count": null,
      "outputs": []
    },
    {
      "cell_type": "code",
      "source": [
        "#Check Balance\n",
        "def check_balance(self):\n",
        "    print(f\"Current Balance: {self.balance} rupees.\")"
      ],
      "metadata": {
        "id": "JGUXkBmJukbu"
      },
      "execution_count": null,
      "outputs": []
    },
    {
      "cell_type": "code",
      "source": [
        "#Create main function to handle user interaction\n",
        "#Users can choose to create an account, Log In, or Exit\n",
        "def main():\n",
        "    accounts = {}\n",
        "\n",
        "    while True:\n",
        "        print(\"\\nWelcome to the Axis Bank\")\n",
        "        print(\"1. Create Account\")\n",
        "        print(\"2. Log in\")\n",
        "        print(\"3. Exit\")\n",
        "\n",
        "        choice = input(\"Enter your choice: \")"
      ],
      "metadata": {
        "id": "sh8VPwhHum14"
      },
      "execution_count": null,
      "outputs": []
    },
    {
      "cell_type": "code",
      "source": [
        "#Deposit method to deposit money\n",
        "def deposit(self, amount):\n",
        "    self.balance += amount\n",
        "    print(f\"Money deposited succesfully {amount} rupees. New balance: {self.balance} rupees.\")\n",
        "\n",
        "\n",
        "\n",
        "#Withdrow method for withdraw money\n",
        "def withdraw(self, amount):\n",
        "    if amount > self.balance:\n",
        "        print(\"Insufficent funds.\")\n",
        "    else:\n",
        "        self.balance -= amount\n",
        "        print(f\"Money withdraw succesfully {amount} rupees. New balance: {self.balance} rupees.\")\n",
        "\n",
        "#Check Balance\n",
        "def check_balance(self):\n",
        "    print(f\"Current Balance: {self.balance} rupees.\")\n",
        "\n",
        "#Create main function to handle user interaction\n",
        "#Users can choose to create an account, Log In, or Exit\n",
        "def main():\n",
        "    accounts = {}\n",
        "\n",
        "    while True:\n",
        "        print(\"\\nWelcome to the Axis Bank\")\n",
        "        print(\"1. Create Account\")\n",
        "        print(\"2. Log in\")\n",
        "        print(\"3. Exit\")\n",
        "\n",
        "        choice = input(\"Enter your choice: \")\n",
        "        #Now using 'if-elif' to respond\n",
        "        if choice == \"1\":\n",
        "            name = input(\"Enter your name: \")\n",
        "            if name in accounts:\n",
        "                print(\"Account already exists.\")\n",
        "            else:\n",
        "                accounts[name] = BankAccount(name)\n",
        "                print(\"Acount created successfully.\")\n",
        "        elif choice == \"2\":\n",
        "          name=input(\"Enter your name:\")\n",
        "          if name in accounts:\n",
        "             accounts = accounts[name]\n",
        "             print(f\"Welcome Back, {name}!\")\n"
      ],
      "metadata": {
        "id": "zZ6xAZ6dup-u"
      },
      "execution_count": null,
      "outputs": []
    },
    {
      "cell_type": "code",
      "source": [
        "#Create Bank Account Class\n",
        "class BankAccount:\n",
        "    def __init__(self, name, balance=0):\n",
        "        self.name = name\n",
        "        self.balance= balance\n",
        "#Deposit method to deposit money\n",
        "def deposit(self, amount):\n",
        "    self.balance += amount\n",
        "    print(f\"Money deposited succesfully {amount} rupees. New balance: {self.balance} rupees.\")\n",
        "\n",
        "#Withdrow method for withdraw money\n",
        "def withdraw(self, amount):\n",
        "    if amount > self.balance:\n",
        "        print(\"Insufficent funds.\")\n",
        "    else:\n",
        "        self.balance -= amount\n",
        "        print(f\"Money withdraw succesfully {amount} rupees. New balance: {self.balance} rupees.\")\n",
        "\n",
        "#Check Balance\n",
        "def check_balance(self):\n",
        "    print(f\"Current Balance: {self.balance} rupees.\")\n",
        "\n",
        "#Create main function to handle user interaction\n",
        "#Users can choose to create an account, Log In, or Exit\n",
        "def main():\n",
        "    accounts = {}\n",
        "\n",
        "    while True:\n",
        "        print(\"\\nWelcome to the Axis Bank\")\n",
        "        print(\"1. Create Account\")\n",
        "        print(\"2. Log in\")\n",
        "        print(\"3. Exit\")\n",
        "\n",
        "        choice = input(\"Enter your choice: \")\n",
        "        #Now using 'if-elif' to respond\n",
        "        if choice == \"1\":\n",
        "            name = input(\"Enter your name: \")\n",
        "            if name in accounts:\n",
        "                print(\"Account already exists.\")\n",
        "            else:\n",
        "                accounts[name] = BankAccount(name)\n",
        "                print(\"Acount created successfully.\")\n",
        "        elif choice == \"2\":\n",
        "          name=input(\"Enter your name:\")\n",
        "          if name in accounts:\n",
        "             accounts = accounts[name]\n",
        "             print(f\"Welcome Back, {name}!\")\n",
        "          #Noe adding user intarection for deposit or withdraw money\n",
        "             while True:\n",
        "                print(\"\\n1.Check balance\")\n",
        "                print(\"2. Deposit\")\n",
        "                print(\"3. Withdraw\")\n",
        "                print(\"4. Logout\")\n",
        "\n",
        "                option = input(\"Enter your option: \")\n",
        "\n",
        "                if option == \"1\":\n",
        "                    accounts.check_balance()\n",
        "                elif option == \"2\":\n",
        "                    amount = float(input(\"Enter the amount of deposit: \"))\n",
        "                    accounts.deposit(amount)\n",
        "                elif option == \"3\":\n",
        "                    amount = float(input(\"Enter amount to withdraw: \"))\n",
        "                    accounts.withdraw(amount)\n",
        "                elif option == \"4\":\n",
        "                    print(\"Looged out succesfully.\")\n",
        "                    break\n",
        "                else:\n",
        "                    print(\"Invalid Option. Please try again.\")\n",
        "#Now adding error handeling\n",
        "             else:\n",
        "                    print(\"Account not found. Please create an account first. \")\n",
        "\n",
        "        elif choice == \"3\":\n",
        "                    print(\"Thank You for using Axis Bank!\")\n",
        "                    break\n",
        "        else:\n",
        "            print(\"Invalid choice. Please try again\")\n",
        "#Now add logic to run our main function\n",
        "if __name__ == \"__main__\":\n",
        "    main()\n",
        "\n",
        "\n",
        "\n",
        "\n"
      ],
      "metadata": {
        "colab": {
          "base_uri": "https://localhost:8080/"
        },
        "id": "0_WaazrFutJx",
        "outputId": "6d8ef4e0-395c-40a3-8966-60be29e35196"
      },
      "execution_count": null,
      "outputs": [
        {
          "output_type": "stream",
          "name": "stdout",
          "text": [
            "\n",
            "Welcome to the Axis Bank\n",
            "1. Create Account\n",
            "2. Log in\n",
            "3. Exit\n",
            "Enter your choice: 2\n",
            "Enter your name:Souvik saha\n",
            "\n",
            "Welcome to the Axis Bank\n",
            "1. Create Account\n",
            "2. Log in\n",
            "3. Exit\n",
            "Enter your choice: 3\n",
            "Thank You for using Axis Bank!\n"
          ]
        }
      ]
    },
    {
      "cell_type": "code",
      "source": [
        "#Create Bank Account Class\n",
        "class BankAccount:\n",
        "    def __init__(self, name, balance=0):\n",
        "        self.name = name\n",
        "        self.balance= balance\n",
        "#Deposit method to deposit money\n",
        "    def deposit(self, amount):\n",
        "        self.balance += amount\n",
        "        print(f\"Money deposited succesfully {amount} rupees. New balance: {self.balance} rupees.\")\n",
        "\n",
        "#Withdrow method for withdraw money\n",
        "    def withdraw(self, amount):\n",
        "        if amount > self.balance:\n",
        "            print(\"Insufficent funds.\")\n",
        "        else:\n",
        "            self.balance -= amount\n",
        "            print(f\"Money withdraw succesfully {amount} rupees. New balance: {self.balance} rupees.\")\n",
        "\n",
        "#Check Balance\n",
        "    def check_balance(self):\n",
        "        print(f\"Current Balance: {self.balance} rupees.\")\n",
        "\n",
        "#Create main function to handle user interaction\n",
        "#Users can choose to create an account, Log In, or Exit\n",
        "def main():\n",
        "    accounts = {}\n",
        "\n",
        "    while True:\n",
        "        print(\"\\nWelcome to the Axis Bank\")\n",
        "        print(\"1. Create Account\")\n",
        "        print(\"2. Log in\")\n",
        "        print(\"3. Exit\")\n",
        "\n",
        "        choice = input(\"Enter your choice: \")\n",
        "        #Now using 'if-elif' to respond\n",
        "        if choice == \"1\":\n",
        "            name = input(\"Enter your name: \")\n",
        "            if name in accounts:\n",
        "                print(\"Account already exists.\")\n",
        "            else:\n",
        "                accounts[name] = BankAccount(name)\n",
        "                print(\"Acount created successfully.\")\n",
        "        elif choice == \"2\":\n",
        "          name=input(\"Enter your name:\")\n",
        "          if name in accounts:\n",
        "             accounts = accounts[name]\n",
        "             print(f\"Welcome Back, {name}!\")\n",
        "          #Noe adding user intarection for deposit or withdraw money\n",
        "             while True:\n",
        "                print(\"\\n1.Check balance\")\n",
        "                print(\"2. Deposit\")\n",
        "                print(\"3. Withdraw\")\n",
        "                print(\"4. Logout\")\n",
        "\n",
        "                option = input(\"Enter your option: \")\n",
        "\n",
        "                if option == \"1\":\n",
        "                    accounts.check_balance()\n",
        "                elif option == \"2\":\n",
        "                    amount = float(input(\"Enter the amount of deposit: \"))\n",
        "                    accounts.deposit(amount)\n",
        "                elif option == \"3\":\n",
        "                    amount = float(input(\"Enter amount to withdraw: \"))\n",
        "                    accounts.withdraw(amount)\n",
        "                elif option == \"4\":\n",
        "                    print(\"Looged out succesfully.\")\n",
        "                    break\n",
        "                else:\n",
        "                    print(\"Invalid Option. Please try again.\")\n",
        "#Now adding error handeling\n",
        "             else:\n",
        "                    print(\"Account not found. Please create an account first. \")\n",
        "\n",
        "        elif choice == \"3\":\n",
        "                    print(\"Thank You for using Axis Bank!\")\n",
        "                    break\n",
        "        else:\n",
        "            print(\"Invalid choice. Please try again\")\n",
        "#Now add logic to run our main function\n",
        "if __name__ == \"__main__\":\n",
        "    main()\n",
        "\n",
        "\n",
        "\n",
        "\n"
      ],
      "metadata": {
        "colab": {
          "base_uri": "https://localhost:8080/",
          "height": 474
        },
        "id": "urhCqYkQBMIQ",
        "outputId": "3cae7735-047d-4645-bbed-50c09f2602d4"
      },
      "execution_count": null,
      "outputs": [
        {
          "name": "stdout",
          "output_type": "stream",
          "text": [
            "\n",
            "Welcome to the Axis Bank\n",
            "1. Create Account\n",
            "2. Log in\n",
            "3. Exit\n",
            "Enter your choice: 1\n"
          ]
        },
        {
          "output_type": "error",
          "ename": "KeyboardInterrupt",
          "evalue": "Interrupted by user",
          "traceback": [
            "\u001b[0;31m---------------------------------------------------------------------------\u001b[0m",
            "\u001b[0;31mKeyboardInterrupt\u001b[0m                         Traceback (most recent call last)",
            "\u001b[0;32m<ipython-input-32-267a70018d44>\u001b[0m in \u001b[0;36m<cell line: 80>\u001b[0;34m()\u001b[0m\n\u001b[1;32m     79\u001b[0m \u001b[0;31m#Now add logic to run our main function\u001b[0m\u001b[0;34m\u001b[0m\u001b[0;34m\u001b[0m\u001b[0m\n\u001b[1;32m     80\u001b[0m \u001b[0;32mif\u001b[0m \u001b[0m__name__\u001b[0m \u001b[0;34m==\u001b[0m \u001b[0;34m\"__main__\"\u001b[0m\u001b[0;34m:\u001b[0m\u001b[0;34m\u001b[0m\u001b[0;34m\u001b[0m\u001b[0m\n\u001b[0;32m---> 81\u001b[0;31m     \u001b[0mmain\u001b[0m\u001b[0;34m(\u001b[0m\u001b[0;34m)\u001b[0m\u001b[0;34m\u001b[0m\u001b[0;34m\u001b[0m\u001b[0m\n\u001b[0m\u001b[1;32m     82\u001b[0m \u001b[0;34m\u001b[0m\u001b[0m\n\u001b[1;32m     83\u001b[0m \u001b[0;34m\u001b[0m\u001b[0m\n",
            "\u001b[0;32m<ipython-input-32-267a70018d44>\u001b[0m in \u001b[0;36mmain\u001b[0;34m()\u001b[0m\n\u001b[1;32m     35\u001b[0m         \u001b[0;31m#Now using 'if-elif' to respond\u001b[0m\u001b[0;34m\u001b[0m\u001b[0;34m\u001b[0m\u001b[0m\n\u001b[1;32m     36\u001b[0m         \u001b[0;32mif\u001b[0m \u001b[0mchoice\u001b[0m \u001b[0;34m==\u001b[0m \u001b[0;34m\"1\"\u001b[0m\u001b[0;34m:\u001b[0m\u001b[0;34m\u001b[0m\u001b[0;34m\u001b[0m\u001b[0m\n\u001b[0;32m---> 37\u001b[0;31m             \u001b[0mname\u001b[0m \u001b[0;34m=\u001b[0m \u001b[0minput\u001b[0m\u001b[0;34m(\u001b[0m\u001b[0;34m\"Enter your name: \"\u001b[0m\u001b[0;34m)\u001b[0m\u001b[0;34m\u001b[0m\u001b[0;34m\u001b[0m\u001b[0m\n\u001b[0m\u001b[1;32m     38\u001b[0m             \u001b[0;32mif\u001b[0m \u001b[0mname\u001b[0m \u001b[0;32min\u001b[0m \u001b[0maccounts\u001b[0m\u001b[0;34m:\u001b[0m\u001b[0;34m\u001b[0m\u001b[0;34m\u001b[0m\u001b[0m\n\u001b[1;32m     39\u001b[0m                 \u001b[0mprint\u001b[0m\u001b[0;34m(\u001b[0m\u001b[0;34m\"Account already exists.\"\u001b[0m\u001b[0;34m)\u001b[0m\u001b[0;34m\u001b[0m\u001b[0;34m\u001b[0m\u001b[0m\n",
            "\u001b[0;32m/usr/local/lib/python3.10/dist-packages/ipykernel/kernelbase.py\u001b[0m in \u001b[0;36mraw_input\u001b[0;34m(self, prompt)\u001b[0m\n\u001b[1;32m    849\u001b[0m                 \u001b[0;34m\"raw_input was called, but this frontend does not support input requests.\"\u001b[0m\u001b[0;34m\u001b[0m\u001b[0;34m\u001b[0m\u001b[0m\n\u001b[1;32m    850\u001b[0m             )\n\u001b[0;32m--> 851\u001b[0;31m         return self._input_request(str(prompt),\n\u001b[0m\u001b[1;32m    852\u001b[0m             \u001b[0mself\u001b[0m\u001b[0;34m.\u001b[0m\u001b[0m_parent_ident\u001b[0m\u001b[0;34m,\u001b[0m\u001b[0;34m\u001b[0m\u001b[0;34m\u001b[0m\u001b[0m\n\u001b[1;32m    853\u001b[0m             \u001b[0mself\u001b[0m\u001b[0;34m.\u001b[0m\u001b[0m_parent_header\u001b[0m\u001b[0;34m,\u001b[0m\u001b[0;34m\u001b[0m\u001b[0;34m\u001b[0m\u001b[0m\n",
            "\u001b[0;32m/usr/local/lib/python3.10/dist-packages/ipykernel/kernelbase.py\u001b[0m in \u001b[0;36m_input_request\u001b[0;34m(self, prompt, ident, parent, password)\u001b[0m\n\u001b[1;32m    893\u001b[0m             \u001b[0;32mexcept\u001b[0m \u001b[0mKeyboardInterrupt\u001b[0m\u001b[0;34m:\u001b[0m\u001b[0;34m\u001b[0m\u001b[0;34m\u001b[0m\u001b[0m\n\u001b[1;32m    894\u001b[0m                 \u001b[0;31m# re-raise KeyboardInterrupt, to truncate traceback\u001b[0m\u001b[0;34m\u001b[0m\u001b[0;34m\u001b[0m\u001b[0m\n\u001b[0;32m--> 895\u001b[0;31m                 \u001b[0;32mraise\u001b[0m \u001b[0mKeyboardInterrupt\u001b[0m\u001b[0;34m(\u001b[0m\u001b[0;34m\"Interrupted by user\"\u001b[0m\u001b[0;34m)\u001b[0m \u001b[0;32mfrom\u001b[0m \u001b[0;32mNone\u001b[0m\u001b[0;34m\u001b[0m\u001b[0;34m\u001b[0m\u001b[0m\n\u001b[0m\u001b[1;32m    896\u001b[0m             \u001b[0;32mexcept\u001b[0m \u001b[0mException\u001b[0m \u001b[0;32mas\u001b[0m \u001b[0me\u001b[0m\u001b[0;34m:\u001b[0m\u001b[0;34m\u001b[0m\u001b[0;34m\u001b[0m\u001b[0m\n\u001b[1;32m    897\u001b[0m                 \u001b[0mself\u001b[0m\u001b[0;34m.\u001b[0m\u001b[0mlog\u001b[0m\u001b[0;34m.\u001b[0m\u001b[0mwarning\u001b[0m\u001b[0;34m(\u001b[0m\u001b[0;34m\"Invalid Message:\"\u001b[0m\u001b[0;34m,\u001b[0m \u001b[0mexc_info\u001b[0m\u001b[0;34m=\u001b[0m\u001b[0;32mTrue\u001b[0m\u001b[0;34m)\u001b[0m\u001b[0;34m\u001b[0m\u001b[0;34m\u001b[0m\u001b[0m\n",
            "\u001b[0;31mKeyboardInterrupt\u001b[0m: Interrupted by user"
          ]
        }
      ]
    },
    {
      "cell_type": "code",
      "source": [
        "#Create Bank Account Class\n",
        "class BankAccount:\n",
        "    def __init__(self, name, balance=0):\n",
        "        self.name = name\n",
        "        self.balance= balance\n",
        "#Deposit method to deposit money\n",
        "    def deposit(self, amount):\n",
        "        self.balance += amount\n",
        "        print(f\"Money deposited succesfully {amount} dollars. New balance: {self.balance} dollars.\")\n",
        "\n",
        "#Withdrow method for withdraw money\n",
        "    def withdraw(self, amount):\n",
        "        if amount > self.balance:\n",
        "            print(\"Insufficent funds.\")\n",
        "        else:\n",
        "            self.balance -= amount\n",
        "            print(f\"Money withdraw succesfully {amount} dollars. New balance: {self.balance} dollars.\")\n",
        "\n",
        "#Check Balance\n",
        "    def check_balance(self):\n",
        "        print(f\"Current Balance: {self.balance} dollars.\")\n",
        "\n",
        "#Create main function to handle user interaction\n",
        "#Users can choose to create an account, Log In, or Exit\n",
        "def main():\n",
        "    accounts = {}\n",
        "\n",
        "    while True:\n",
        "        print(\"\\nWelcome to the Axis Bank\")\n",
        "        print(\"1. Create Account\")\n",
        "        print(\"2. Log in\")\n",
        "        print(\"3. Exit\")\n",
        "\n",
        "        choice = input(\"Enter your choice: \")\n",
        "        #Now using 'if-elif' to respond\n",
        "        if choice == \"1\":\n",
        "            name = input(\"Enter your name: \")\n",
        "            if name in accounts:\n",
        "                print(\"Account already exists.\")\n",
        "            else:\n",
        "                accounts[name] = BankAccount(name)\n",
        "                print(\"Acount created successfully.\")\n",
        "        elif choice == \"2\":\n",
        "          name=input(\"Enter your name:\")\n",
        "          if name in accounts:\n",
        "             accounts = accounts[name]\n",
        "             print(f\"Welcome Back, {name}!\")\n",
        "          #Noe adding user intarection for deposit or withdraw money\n",
        "             while True:\n",
        "                print(\"\\n1.Check"
      ],
      "metadata": {
        "id": "AtS9_ZG5D3Cf"
      },
      "execution_count": null,
      "outputs": []
    },
    {
      "cell_type": "code",
      "source": [
        "pip install pdf2docx\n"
      ],
      "metadata": {
        "colab": {
          "base_uri": "https://localhost:8080/"
        },
        "id": "WEoDO7rsKqXj",
        "outputId": "370d6682-74a7-459d-ca6d-4f47a86da3dd"
      },
      "execution_count": null,
      "outputs": [
        {
          "output_type": "stream",
          "name": "stdout",
          "text": [
            "Collecting pdf2docx\n",
            "  Downloading pdf2docx-0.5.8-py3-none-any.whl (132 kB)\n",
            "\u001b[2K     \u001b[90m━━━━━━━━━━━━━━━━━━━━━━━━━━━━━━━━━━━━━━━━\u001b[0m \u001b[32m132.0/132.0 kB\u001b[0m \u001b[31m3.4 MB/s\u001b[0m eta \u001b[36m0:00:00\u001b[0m\n",
            "\u001b[?25hCollecting PyMuPDF>=1.19.0 (from pdf2docx)\n",
            "  Downloading PyMuPDF-1.24.5-cp310-none-manylinux2014_x86_64.whl (3.5 MB)\n",
            "\u001b[2K     \u001b[90m━━━━━━━━━━━━━━━━━━━━━━━━━━━━━━━━━━━━━━━━\u001b[0m \u001b[32m3.5/3.5 MB\u001b[0m \u001b[31m12.4 MB/s\u001b[0m eta \u001b[36m0:00:00\u001b[0m\n",
            "\u001b[?25hCollecting python-docx>=0.8.10 (from pdf2docx)\n",
            "  Downloading python_docx-1.1.2-py3-none-any.whl (244 kB)\n",
            "\u001b[2K     \u001b[90m━━━━━━━━━━━━━━━━━━━━━━━━━━━━━━━━━━━━━━━━\u001b[0m \u001b[32m244.3/244.3 kB\u001b[0m \u001b[31m15.7 MB/s\u001b[0m eta \u001b[36m0:00:00\u001b[0m\n",
            "\u001b[?25hRequirement already satisfied: fonttools>=4.24.0 in /usr/local/lib/python3.10/dist-packages (from pdf2docx) (4.51.0)\n",
            "Requirement already satisfied: numpy>=1.17.2 in /usr/local/lib/python3.10/dist-packages (from pdf2docx) (1.25.2)\n",
            "Requirement already satisfied: opencv-python-headless>=4.5 in /usr/local/lib/python3.10/dist-packages (from pdf2docx) (4.9.0.80)\n",
            "Collecting fire>=0.3.0 (from pdf2docx)\n",
            "  Downloading fire-0.6.0.tar.gz (88 kB)\n",
            "\u001b[2K     \u001b[90m━━━━━━━━━━━━━━━━━━━━━━━━━━━━━━━━━━━━━━━━\u001b[0m \u001b[32m88.4/88.4 kB\u001b[0m \u001b[31m12.2 MB/s\u001b[0m eta \u001b[36m0:00:00\u001b[0m\n",
            "\u001b[?25h  Preparing metadata (setup.py) ... \u001b[?25l\u001b[?25hdone\n",
            "Requirement already satisfied: six in /usr/local/lib/python3.10/dist-packages (from fire>=0.3.0->pdf2docx) (1.16.0)\n",
            "Requirement already satisfied: termcolor in /usr/local/lib/python3.10/dist-packages (from fire>=0.3.0->pdf2docx) (2.4.0)\n",
            "Collecting PyMuPDFb==1.24.3 (from PyMuPDF>=1.19.0->pdf2docx)\n",
            "  Downloading PyMuPDFb-1.24.3-py3-none-manylinux2014_x86_64.manylinux_2_17_x86_64.whl (15.8 MB)\n",
            "\u001b[2K     \u001b[90m━━━━━━━━━━━━━━━━━━━━━━━━━━━━━━━━━━━━━━━━\u001b[0m \u001b[32m15.8/15.8 MB\u001b[0m \u001b[31m39.4 MB/s\u001b[0m eta \u001b[36m0:00:00\u001b[0m\n",
            "\u001b[?25hRequirement already satisfied: lxml>=3.1.0 in /usr/local/lib/python3.10/dist-packages (from python-docx>=0.8.10->pdf2docx) (4.9.4)\n",
            "Requirement already satisfied: typing-extensions>=4.9.0 in /usr/local/lib/python3.10/dist-packages (from python-docx>=0.8.10->pdf2docx) (4.11.0)\n",
            "Building wheels for collected packages: fire\n",
            "  Building wheel for fire (setup.py) ... \u001b[?25l\u001b[?25hdone\n",
            "  Created wheel for fire: filename=fire-0.6.0-py2.py3-none-any.whl size=117029 sha256=09e540b27abfc5263a839a39f30ea73799e6f6f133f4eef3bdab3ba57704fabd\n",
            "  Stored in directory: /root/.cache/pip/wheels/d6/6d/5d/5b73fa0f46d01a793713f8859201361e9e581ced8c75e5c6a3\n",
            "Successfully built fire\n",
            "Installing collected packages: python-docx, PyMuPDFb, fire, PyMuPDF, pdf2docx\n",
            "Successfully installed PyMuPDF-1.24.5 PyMuPDFb-1.24.3 fire-0.6.0 pdf2docx-0.5.8 python-docx-1.1.2\n"
          ]
        }
      ]
    },
    {
      "cell_type": "code",
      "source": [
        "from pdf2docx import Converter"
      ],
      "metadata": {
        "id": "lQCWkdzFKxp8"
      },
      "execution_count": null,
      "outputs": []
    },
    {
      "cell_type": "code",
      "source": [
        "old_pdf = \"IBM Skills Build Registration Manual.pdf\"\n",
        "new_doc = \"TIU Assignment-7.docx\"\n",
        "\n",
        "obj = Converter(old_pdf)\n",
        "obj.convert(new_doc)\n",
        "obj.close"
      ],
      "metadata": {
        "colab": {
          "base_uri": "https://localhost:8080/",
          "height": 384
        },
        "id": "WtyQHvE4K2n3",
        "outputId": "0965ba80-1891-4ae4-b737-bddabb429fec"
      },
      "execution_count": null,
      "outputs": [
        {
          "output_type": "error",
          "ename": "FileNotFoundError",
          "evalue": "no such file: 'IBM Skills Build Registration Manual.pdf'",
          "traceback": [
            "\u001b[0;31m---------------------------------------------------------------------------\u001b[0m",
            "\u001b[0;31mFileNotFoundError\u001b[0m                         Traceback (most recent call last)",
            "\u001b[0;32m<ipython-input-41-16538774e096>\u001b[0m in \u001b[0;36m<cell line: 4>\u001b[0;34m()\u001b[0m\n\u001b[1;32m      2\u001b[0m \u001b[0mnew_doc\u001b[0m \u001b[0;34m=\u001b[0m \u001b[0;34m\"TIU Assignment-7.docx\"\u001b[0m\u001b[0;34m\u001b[0m\u001b[0;34m\u001b[0m\u001b[0m\n\u001b[1;32m      3\u001b[0m \u001b[0;34m\u001b[0m\u001b[0m\n\u001b[0;32m----> 4\u001b[0;31m \u001b[0mobj\u001b[0m \u001b[0;34m=\u001b[0m \u001b[0mConverter\u001b[0m\u001b[0;34m(\u001b[0m\u001b[0mold_pdf\u001b[0m\u001b[0;34m)\u001b[0m\u001b[0;34m\u001b[0m\u001b[0;34m\u001b[0m\u001b[0m\n\u001b[0m\u001b[1;32m      5\u001b[0m \u001b[0mobj\u001b[0m\u001b[0;34m.\u001b[0m\u001b[0mconvert\u001b[0m\u001b[0;34m(\u001b[0m\u001b[0mnew_doc\u001b[0m\u001b[0;34m)\u001b[0m\u001b[0;34m\u001b[0m\u001b[0;34m\u001b[0m\u001b[0m\n\u001b[1;32m      6\u001b[0m \u001b[0mobj\u001b[0m\u001b[0;34m.\u001b[0m\u001b[0mclose\u001b[0m\u001b[0;34m\u001b[0m\u001b[0;34m\u001b[0m\u001b[0m\n",
            "\u001b[0;32m/usr/local/lib/python3.10/dist-packages/pdf2docx/converter.py\u001b[0m in \u001b[0;36m__init__\u001b[0;34m(self, pdf_file, password, stream)\u001b[0m\n\u001b[1;32m     57\u001b[0m \u001b[0;34m\u001b[0m\u001b[0m\n\u001b[1;32m     58\u001b[0m         \u001b[0;32melse\u001b[0m\u001b[0;34m:\u001b[0m\u001b[0;34m\u001b[0m\u001b[0;34m\u001b[0m\u001b[0m\n\u001b[0;32m---> 59\u001b[0;31m             \u001b[0mself\u001b[0m\u001b[0;34m.\u001b[0m\u001b[0m_fitz_doc\u001b[0m \u001b[0;34m=\u001b[0m \u001b[0mfitz\u001b[0m\u001b[0;34m.\u001b[0m\u001b[0mDocument\u001b[0m\u001b[0;34m(\u001b[0m\u001b[0mpdf_file\u001b[0m\u001b[0;34m)\u001b[0m\u001b[0;34m\u001b[0m\u001b[0;34m\u001b[0m\u001b[0m\n\u001b[0m\u001b[1;32m     60\u001b[0m \u001b[0;34m\u001b[0m\u001b[0m\n\u001b[1;32m     61\u001b[0m         \u001b[0;31m# initialize empty pages container\u001b[0m\u001b[0;34m\u001b[0m\u001b[0;34m\u001b[0m\u001b[0m\n",
            "\u001b[0;32m/usr/local/lib/python3.10/dist-packages/pymupdf/__init__.py\u001b[0m in \u001b[0;36m__init__\u001b[0;34m(self, filename, stream, filetype, rect, width, height, fontsize)\u001b[0m\n\u001b[1;32m   2736\u001b[0m                 \u001b[0;32mif\u001b[0m \u001b[0;32mnot\u001b[0m \u001b[0mos\u001b[0m\u001b[0;34m.\u001b[0m\u001b[0mpath\u001b[0m\u001b[0;34m.\u001b[0m\u001b[0mexists\u001b[0m\u001b[0;34m(\u001b[0m\u001b[0mfilename\u001b[0m\u001b[0;34m)\u001b[0m\u001b[0;34m:\u001b[0m\u001b[0;34m\u001b[0m\u001b[0;34m\u001b[0m\u001b[0m\n\u001b[1;32m   2737\u001b[0m                     \u001b[0mmsg\u001b[0m \u001b[0;34m=\u001b[0m \u001b[0;34mf\"no such file: '{filename}'\"\u001b[0m\u001b[0;34m\u001b[0m\u001b[0;34m\u001b[0m\u001b[0m\n\u001b[0;32m-> 2738\u001b[0;31m                     \u001b[0;32mraise\u001b[0m \u001b[0mFileNotFoundError\u001b[0m\u001b[0;34m(\u001b[0m\u001b[0mmsg\u001b[0m\u001b[0;34m)\u001b[0m\u001b[0;34m\u001b[0m\u001b[0;34m\u001b[0m\u001b[0m\n\u001b[0m\u001b[1;32m   2739\u001b[0m                 \u001b[0;32melif\u001b[0m \u001b[0;32mnot\u001b[0m \u001b[0mos\u001b[0m\u001b[0;34m.\u001b[0m\u001b[0mpath\u001b[0m\u001b[0;34m.\u001b[0m\u001b[0misfile\u001b[0m\u001b[0;34m(\u001b[0m\u001b[0mfilename\u001b[0m\u001b[0;34m)\u001b[0m\u001b[0;34m:\u001b[0m\u001b[0;34m\u001b[0m\u001b[0;34m\u001b[0m\u001b[0m\n\u001b[1;32m   2740\u001b[0m                     \u001b[0mmsg\u001b[0m \u001b[0;34m=\u001b[0m \u001b[0;34mf\"'{filename}' is no file\"\u001b[0m\u001b[0;34m\u001b[0m\u001b[0;34m\u001b[0m\u001b[0m\n",
            "\u001b[0;31mFileNotFoundError\u001b[0m: no such file: 'IBM Skills Build Registration Manual.pdf'"
          ]
        }
      ]
    },
    {
      "cell_type": "code",
      "source": [],
      "metadata": {
        "colab": {
          "base_uri": "https://localhost:8080/",
          "height": 348
        },
        "id": "dHn_9b_QN3vy",
        "outputId": "c44057a2-f445-4c02-e80b-65952e958a6b"
      },
      "execution_count": null,
      "outputs": [
        {
          "output_type": "error",
          "ename": "FileNotFoundError",
          "evalue": "no such file: 'TIU Assignment-7.pdf'",
          "traceback": [
            "\u001b[0;31m---------------------------------------------------------------------------\u001b[0m",
            "\u001b[0;31mFileNotFoundError\u001b[0m                         Traceback (most recent call last)",
            "\u001b[0;32m<ipython-input-36-4bb2106d737d>\u001b[0m in \u001b[0;36m<cell line: 1>\u001b[0;34m()\u001b[0m\n\u001b[0;32m----> 1\u001b[0;31m \u001b[0mobj\u001b[0m \u001b[0;34m=\u001b[0m \u001b[0mConverter\u001b[0m\u001b[0;34m(\u001b[0m\u001b[0mold_pdf\u001b[0m\u001b[0;34m)\u001b[0m\u001b[0;34m\u001b[0m\u001b[0;34m\u001b[0m\u001b[0m\n\u001b[0m\u001b[1;32m      2\u001b[0m \u001b[0mobj\u001b[0m\u001b[0;34m.\u001b[0m\u001b[0mConvert\u001b[0m\u001b[0;34m(\u001b[0m\u001b[0mnew_doc\u001b[0m\u001b[0;34m)\u001b[0m\u001b[0;34m\u001b[0m\u001b[0;34m\u001b[0m\u001b[0m\n\u001b[1;32m      3\u001b[0m \u001b[0mobj\u001b[0m\u001b[0;34m.\u001b[0m\u001b[0mclose\u001b[0m\u001b[0;34m\u001b[0m\u001b[0;34m\u001b[0m\u001b[0m\n",
            "\u001b[0;32m/usr/local/lib/python3.10/dist-packages/pdf2docx/converter.py\u001b[0m in \u001b[0;36m__init__\u001b[0;34m(self, pdf_file, password, stream)\u001b[0m\n\u001b[1;32m     57\u001b[0m \u001b[0;34m\u001b[0m\u001b[0m\n\u001b[1;32m     58\u001b[0m         \u001b[0;32melse\u001b[0m\u001b[0;34m:\u001b[0m\u001b[0;34m\u001b[0m\u001b[0;34m\u001b[0m\u001b[0m\n\u001b[0;32m---> 59\u001b[0;31m             \u001b[0mself\u001b[0m\u001b[0;34m.\u001b[0m\u001b[0m_fitz_doc\u001b[0m \u001b[0;34m=\u001b[0m \u001b[0mfitz\u001b[0m\u001b[0;34m.\u001b[0m\u001b[0mDocument\u001b[0m\u001b[0;34m(\u001b[0m\u001b[0mpdf_file\u001b[0m\u001b[0;34m)\u001b[0m\u001b[0;34m\u001b[0m\u001b[0;34m\u001b[0m\u001b[0m\n\u001b[0m\u001b[1;32m     60\u001b[0m \u001b[0;34m\u001b[0m\u001b[0m\n\u001b[1;32m     61\u001b[0m         \u001b[0;31m# initialize empty pages container\u001b[0m\u001b[0;34m\u001b[0m\u001b[0;34m\u001b[0m\u001b[0m\n",
            "\u001b[0;32m/usr/local/lib/python3.10/dist-packages/pymupdf/__init__.py\u001b[0m in \u001b[0;36m__init__\u001b[0;34m(self, filename, stream, filetype, rect, width, height, fontsize)\u001b[0m\n\u001b[1;32m   2736\u001b[0m                 \u001b[0;32mif\u001b[0m \u001b[0;32mnot\u001b[0m \u001b[0mos\u001b[0m\u001b[0;34m.\u001b[0m\u001b[0mpath\u001b[0m\u001b[0;34m.\u001b[0m\u001b[0mexists\u001b[0m\u001b[0;34m(\u001b[0m\u001b[0mfilename\u001b[0m\u001b[0;34m)\u001b[0m\u001b[0;34m:\u001b[0m\u001b[0;34m\u001b[0m\u001b[0;34m\u001b[0m\u001b[0m\n\u001b[1;32m   2737\u001b[0m                     \u001b[0mmsg\u001b[0m \u001b[0;34m=\u001b[0m \u001b[0;34mf\"no such file: '{filename}'\"\u001b[0m\u001b[0;34m\u001b[0m\u001b[0;34m\u001b[0m\u001b[0m\n\u001b[0;32m-> 2738\u001b[0;31m                     \u001b[0;32mraise\u001b[0m \u001b[0mFileNotFoundError\u001b[0m\u001b[0;34m(\u001b[0m\u001b[0mmsg\u001b[0m\u001b[0;34m)\u001b[0m\u001b[0;34m\u001b[0m\u001b[0;34m\u001b[0m\u001b[0m\n\u001b[0m\u001b[1;32m   2739\u001b[0m                 \u001b[0;32melif\u001b[0m \u001b[0;32mnot\u001b[0m \u001b[0mos\u001b[0m\u001b[0;34m.\u001b[0m\u001b[0mpath\u001b[0m\u001b[0;34m.\u001b[0m\u001b[0misfile\u001b[0m\u001b[0;34m(\u001b[0m\u001b[0mfilename\u001b[0m\u001b[0;34m)\u001b[0m\u001b[0;34m:\u001b[0m\u001b[0;34m\u001b[0m\u001b[0;34m\u001b[0m\u001b[0m\n\u001b[1;32m   2740\u001b[0m                     \u001b[0mmsg\u001b[0m \u001b[0;34m=\u001b[0m \u001b[0;34mf\"'{filename}' is no file\"\u001b[0m\u001b[0;34m\u001b[0m\u001b[0;34m\u001b[0m\u001b[0m\n",
            "\u001b[0;31mFileNotFoundError\u001b[0m: no such file: 'TIU Assignment-7.pdf'"
          ]
        }
      ]
    },
    {
      "cell_type": "code",
      "source": [
        "import sqlite3\n"
      ],
      "metadata": {
        "id": "iL3pBWWIOFJg"
      },
      "execution_count": null,
      "outputs": []
    },
    {
      "cell_type": "code",
      "source": [
        "connection = sqlite3.connect(\"myemp.db\")\n",
        "print(\"Connected with the Database successfully...\")"
      ],
      "metadata": {
        "colab": {
          "base_uri": "https://localhost:8080/"
        },
        "id": "p9fw2trstH06",
        "outputId": "a10c580e-b1d1-4eff-b1d0-ea7bc364e80d"
      },
      "execution_count": null,
      "outputs": [
        {
          "output_type": "stream",
          "name": "stdout",
          "text": [
            "Connected with the Database successfully...\n"
          ]
        }
      ]
    },
    {
      "cell_type": "code",
      "source": [
        "print(type(connection))"
      ],
      "metadata": {
        "colab": {
          "base_uri": "https://localhost:8080/"
        },
        "id": "pIqLhc44tLuY",
        "outputId": "fe1ba505-e988-40f9-d369-fba1432af957"
      },
      "execution_count": null,
      "outputs": [
        {
          "output_type": "stream",
          "name": "stdout",
          "text": [
            "<class 'sqlite3.Connection'>\n"
          ]
        }
      ]
    },
    {
      "cell_type": "code",
      "source": [
        "sqlStr = '''\n",
        " CREATE TABLE employee(\n",
        " emp_id TEXT PRIMARY KEY,\n",
        " emp_name TEXT,\n",
        " emp_city TEXT,\n",
        " emp_salary TEXT);\n",
        " '''\n",
        "try: # create the table if it does not pre -exist\n",
        " connection.execute(sqlStr)\n",
        " print(\"Table has been created successfully...\")\n",
        "except:\n",
        " print(\"Error !!! Database table could not be created...!!!\")"
      ],
      "metadata": {
        "colab": {
          "base_uri": "https://localhost:8080/"
        },
        "id": "FxAIpYvutOdB",
        "outputId": "117a43ce-5e5c-45bd-efe5-5a027305a467"
      },
      "execution_count": null,
      "outputs": [
        {
          "output_type": "stream",
          "name": "stdout",
          "text": [
            "Table has been created successfully...\n"
          ]
        }
      ]
    },
    {
      "cell_type": "code",
      "source": [
        "sqlStr = \"INSERT INTO employee VALUES('{emp_id_ph}', '{emp_name_ph}', '{emp_city_ph}', '{emp_salary_ph}');\" # E\n",
        "# ph =Place Holder\n",
        "# read lines from the csv file and store them into table\n",
        "with open(\"emp_data.csv\") as data_file: # The file needs to exist in the same directory as the notebook or the path needs to be specified\n",
        " csv_reader = csv.reader(data_file)\n",
        " print(csv_reader)\n",
        " print(list(csv_reader))"
      ],
      "metadata": {
        "colab": {
          "base_uri": "https://localhost:8080/",
          "height": 234
        },
        "id": "YRy7nRritRly",
        "outputId": "f7ae1943-e805-49af-d414-6cb38a2edb15"
      },
      "execution_count": null,
      "outputs": [
        {
          "output_type": "error",
          "ename": "FileNotFoundError",
          "evalue": "[Errno 2] No such file or directory: 'emp_data.csv'",
          "traceback": [
            "\u001b[0;31m---------------------------------------------------------------------------\u001b[0m",
            "\u001b[0;31mFileNotFoundError\u001b[0m                         Traceback (most recent call last)",
            "\u001b[0;32m<ipython-input-9-a08f734e4d4f>\u001b[0m in \u001b[0;36m<cell line: 4>\u001b[0;34m()\u001b[0m\n\u001b[1;32m      2\u001b[0m \u001b[0;31m# ph =Place Holder\u001b[0m\u001b[0;34m\u001b[0m\u001b[0;34m\u001b[0m\u001b[0m\n\u001b[1;32m      3\u001b[0m \u001b[0;31m# read lines from the csv file and store them into table\u001b[0m\u001b[0;34m\u001b[0m\u001b[0;34m\u001b[0m\u001b[0m\n\u001b[0;32m----> 4\u001b[0;31m \u001b[0;32mwith\u001b[0m \u001b[0mopen\u001b[0m\u001b[0;34m(\u001b[0m\u001b[0;34m\"emp_data.csv\"\u001b[0m\u001b[0;34m)\u001b[0m \u001b[0;32mas\u001b[0m \u001b[0mdata_file\u001b[0m\u001b[0;34m:\u001b[0m \u001b[0;31m# The file needs to exist in the same directory as the notebook or the path needs to be specified\u001b[0m\u001b[0;34m\u001b[0m\u001b[0;34m\u001b[0m\u001b[0m\n\u001b[0m\u001b[1;32m      5\u001b[0m  \u001b[0mcsv_reader\u001b[0m \u001b[0;34m=\u001b[0m \u001b[0mcsv\u001b[0m\u001b[0;34m.\u001b[0m\u001b[0mreader\u001b[0m\u001b[0;34m(\u001b[0m\u001b[0mdata_file\u001b[0m\u001b[0;34m)\u001b[0m\u001b[0;34m\u001b[0m\u001b[0;34m\u001b[0m\u001b[0m\n\u001b[1;32m      6\u001b[0m  \u001b[0mprint\u001b[0m\u001b[0;34m(\u001b[0m\u001b[0mcsv_reader\u001b[0m\u001b[0;34m)\u001b[0m\u001b[0;34m\u001b[0m\u001b[0;34m\u001b[0m\u001b[0m\n",
            "\u001b[0;31mFileNotFoundError\u001b[0m: [Errno 2] No such file or directory: 'emp_data.csv'"
          ]
        }
      ]
    },
    {
      "cell_type": "code",
      "source": [
        "# Inserting records from the csv file and writing it to the database employee table\n",
        "import csv\n",
        "sqlStr = \"INSERT INTO employee VALUES('{emp_id_ph}', '{emp_name_ph}', '{emp_city_ph}', '{emp_salary_ph}');\" # E\n",
        "# read lines from the csv file and store them into table\n",
        "with open(\"emp_data.csv\")as data_file:\n",
        " csv_reader = csv.reader(data_file)\n",
        " for row in csv_reader:\n",
        " connection.execute(sqlStr.format(emp_id_ph=row[0], emp_name_ph=row[1], emp_city_ph=row[2], emp_salary_ph\n",
        "connection.commit() # to make the change permanent\n",
        "print(\"All records got inserted successfully...\")\n"
      ],
      "metadata": {
        "id": "2TZDZXBBwSID",
        "outputId": "2e433ce7-65b4-43c0-8d0e-323eab046320",
        "colab": {
          "base_uri": "https://localhost:8080/",
          "height": 109
        }
      },
      "execution_count": null,
      "outputs": [
        {
          "output_type": "error",
          "ename": "IndentationError",
          "evalue": "expected an indented block after 'for' statement on line 7 (<ipython-input-10-5c3292dc8b1c>, line 8)",
          "traceback": [
            "\u001b[0;36m  File \u001b[0;32m\"<ipython-input-10-5c3292dc8b1c>\"\u001b[0;36m, line \u001b[0;32m8\u001b[0m\n\u001b[0;31m    connection.execute(sqlStr.format(emp_id_ph=row[0], emp_name_ph=row[1], emp_city_ph=row[2], emp_salary_ph\u001b[0m\n\u001b[0m    ^\u001b[0m\n\u001b[0;31mIndentationError\u001b[0m\u001b[0;31m:\u001b[0m expected an indented block after 'for' statement on line 7\n"
          ]
        }
      ]
    },
    {
      "cell_type": "code",
      "source": [
        "import sqlite3\n",
        "import pandas as pd\n",
        "import numpy as np\n",
        "import matplotlib.pyplot as plt\n",
        "\n",
        "import warnings\n",
        "warnings.filterwarnings('ignore')"
      ],
      "metadata": {
        "id": "dTC5ODqOtc2D"
      },
      "execution_count": null,
      "outputs": []
    },
    {
      "cell_type": "code",
      "source": [
        "connection = sqlite3.connect('travel.sqlite')\n",
        "cursor = connection.cursor()"
      ],
      "metadata": {
        "id": "G0E634T-GAxD"
      },
      "execution_count": null,
      "outputs": []
    },
    {
      "cell_type": "code",
      "source": [
        "cursor.execute(\"\"\"select name from sqlite_master where type = 'table';\"\"\")\n",
        "print('List of tables present in the database')\n",
        "table_list = [table[0] for table in cursor.fetchall()]\n",
        "table_list"
      ],
      "metadata": {
        "colab": {
          "base_uri": "https://localhost:8080/"
        },
        "id": "Bc8Ug7WyGX7-",
        "outputId": "58671981-92a2-4564-929d-069adbd71237"
      },
      "execution_count": null,
      "outputs": [
        {
          "output_type": "stream",
          "name": "stdout",
          "text": [
            "List of tables present in the database\n"
          ]
        },
        {
          "output_type": "execute_result",
          "data": {
            "text/plain": [
              "['aircrafts_data',\n",
              " 'airports_data',\n",
              " 'boarding_passes',\n",
              " 'bookings',\n",
              " 'flights',\n",
              " 'seats',\n",
              " 'ticket_flights',\n",
              " 'tickets']"
            ]
          },
          "metadata": {},
          "execution_count": 11
        }
      ]
    },
    {
      "cell_type": "code",
      "source": [],
      "metadata": {
        "id": "4DZic43AGcFQ"
      },
      "execution_count": null,
      "outputs": []
    }
  ]
}